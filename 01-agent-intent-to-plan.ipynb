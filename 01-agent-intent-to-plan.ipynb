{
 "cells": [
  {
   "cell_type": "markdown",
   "metadata": {},
   "source": [
    "ライブラリをインポートする"
   ]
  },
  {
   "cell_type": "code",
   "execution_count": null,
   "metadata": {},
   "outputs": [],
   "source": [
    "!python -m pip install semantic-kernel==0.5.1.dev0\n",
    "!python -m pip install slack-sdk load_dotenv\n",
    "!python -m pip install guidance"
   ]
  },
  {
   "cell_type": "markdown",
   "metadata": {},
   "source": [
    "コンフィグを読み取る"
   ]
  },
  {
   "cell_type": "code",
   "execution_count": null,
   "metadata": {},
   "outputs": [],
   "source": [
    "import semantic_kernel as sk\n",
    "from semantic_kernel.connectors.ai.open_ai import (\n",
    "    AzureChatCompletion,\n",
    "    OpenAIChatCompletion\n",
    ")\n",
    "\n",
    "kernel = sk.Kernel()\n",
    "\n",
    "useAzureOpenAI = True\n",
    "\n",
    "if useAzureOpenAI:\n",
    "    deployment, api_key, endpoint = sk.azure_openai_settings_from_dot_env()\n",
    "    azure_chat_service = AzureChatCompletion(\n",
    "        deployment_name=deployment,\n",
    "        api_key=api_key,\n",
    "        endpoint=endpoint\n",
    "    )\n",
    "    kernel.add_chat_service(\"chat_completion\", azure_chat_service)\n",
    "else:\n",
    "    api_key, org_id = sk.openai_settings_from_dot_env()\n",
    "    openai_chat_service = OpenAIChatCompletion(\n",
    "        ai_model_id=\"gpt-3.5-turbo\",\n",
    "        api_key=api_key,\n",
    "        org_id=org_id\n",
    "    )\n",
    "    kernel.add_chat_service(\"chat-gpt\", openai_chat_service)"
   ]
  },
  {
   "cell_type": "markdown",
   "metadata": {},
   "source": [
    "ユーザとやりとりをして、Planを作成する"
   ]
  },
  {
   "cell_type": "code",
   "execution_count": null,
   "metadata": {},
   "outputs": [],
   "source": [
    "import os\n",
    "from dotenv import load_dotenv\n",
    "load_dotenv()\n",
    "\n",
    "import guidance\n",
    "from guidance import system, user, assistant, gen\n",
    "\n",
    "buddy = guidance.models.AzureOpenAIChat(\n",
    "    model=os.getenv(\"AZURE_OPENAI_DEPLOYMENT_NAME\"),\n",
    "    azure_endpoint=os.getenv(\"AZURE_OPENAI_ENDPOINT\"),\n",
    "    api_key=os.getenv(\"AZURE_OPENAI_API_KEY\"),\n",
    ")\n",
    "\n",
    "skills = [\n",
    "    {\"name\": \"SendMessage\", \"description\": \"Send a message to a Slack channel.\"},\n",
    "    {\"name\": \"GenerateMessageJa\", \"description\": \"Generate a message in Japanese.\"}\n",
    "]\n",
    "\n",
    "@guidance\n",
    "def experts(lm, input, skills):\n",
    "    with system():\n",
    "        lm += f\"\"\"\\\n",
    "        # 前提条件\n",
    "            - あなたはユーザの入力に基づいて「実行計画」を作成する優秀なプランナーです。\n",
    "            - 実行計画はユーザの入力を達成するために必要な作業内容を分解および順序づけしたものです。\n",
    "            - 実行計画には関数の利用を含みます。\n",
    "            - 実行計画で利用できる関数は「使用可能な関数」で定義された関数のみです。\n",
    "        \"\"\"\n",
    "\n",
    "    with user():\n",
    "        lm += f\"\"\"\n",
    "        # ゴール\n",
    "            - ユーザの入力から実行計画を作成する\n",
    "            - 出力形式は以下のようなJSONフォーマットであること\n",
    "                ```\n",
    "                {{\n",
    "                    \"user_input\": \"ユーザの入力\",\n",
    "                    \"best_plan\": [実行する関数名のリスト],\n",
    "                    \"description\": \"実行する関数名とその関数を利用する目的の説明\"\n",
    "                }}\n",
    "                ```\n",
    "        # 実行のプロセス\n",
    "            1. ユーザの入力を受け取り、実行計画を3つ作成する\n",
    "            2. 最も有効な実行計画が1位となるようにランク付けする\n",
    "            3. 1位の実行計画をJSONフォーマットに変換する\n",
    "            4. JSONフォーマットに変数した実行計画のみを出力する\n",
    "        # 使用可能な関数\n",
    "        \"\"\"\n",
    "\n",
    "        for i in range(len(skills)):\n",
    "            lm += f\"\"\"\n",
    "                - {skills[i][\"name\"]}: {skills[i][\"description\"]}\n",
    "            \"\"\"\n",
    "\n",
    "    with assistant():\n",
    "        lm += f\"\"\"\\\n",
    "            はい。ユーザの入力に基づいて実行計画を作成し、JSONのみを出力します。\n",
    "            また、実行計画の作成には使用可能な関数のみを使用します。\n",
    "        \"\"\"\n",
    "    \n",
    "    with user():\n",
    "        lm += f\"\"\"\\\n",
    "            ユーザの入力:{input}\n",
    "            必ずJSON形式の部分のみを出力してください。\n",
    "        \"\"\"\n",
    "    \n",
    "    with assistant():\n",
    "        lm += gen(name='answer', max_tokens=500)\n",
    "\n",
    "    return lm\n",
    "\n",
    "result = None\n",
    "\n",
    "while True:\n",
    "    user_input = input(\"なにを依頼したいですか？特に依頼がなければ'end'と入力してください。:\")\n",
    "    if user_input == \"end\":\n",
    "        break\n",
    "    else:\n",
    "        result = buddy + experts(input=user_input, skills=skills)"
   ]
  },
  {
   "cell_type": "code",
   "execution_count": null,
   "metadata": {},
   "outputs": [],
   "source": [
    "print(result['answer'])"
   ]
  },
  {
   "cell_type": "markdown",
   "metadata": {},
   "source": [
    "SKにPlanを作成させる"
   ]
  },
  {
   "cell_type": "code",
   "execution_count": null,
   "metadata": {},
   "outputs": [],
   "source": [
    "from plugins.SlackPlugin.slack_plugin import SlackPlugin\n",
    "from semantic_kernel.planning.basic_planner import BasicPlanner\n",
    "\n",
    "plugins_directory = \"plugins\"\n",
    "messageFunctions = kernel.import_semantic_plugin_from_directory(plugins_directory, \"MessagePlugin\")\n",
    "\n",
    "slack_plugin = kernel.import_plugin(SlackPlugin(), \"SlackPlugin\")\n",
    "\n",
    "plan_base = result[\"answer\"]\n",
    "\n",
    "print(f\"### Plan ###\\n{plan_base}\")\n",
    "\n",
    "basic_planner = BasicPlanner()\n",
    "basic_plan = await basic_planner.create_plan(plan_base, kernel)\n",
    "\n",
    "print(basic_plan.generated_plan)"
   ]
  },
  {
   "cell_type": "code",
   "execution_count": null,
   "metadata": {},
   "outputs": [],
   "source": [
    "results = await basic_planner.execute_plan(basic_plan, kernel)\n",
    "print(results)"
   ]
  }
 ],
 "metadata": {
  "kernelspec": {
   "display_name": "python3.10.13",
   "language": "python",
   "name": "python.3.10.13"
  },
  "language_info": {
   "codemirror_mode": {
    "name": "ipython",
    "version": 3
   },
   "file_extension": ".py",
   "mimetype": "text/x-python",
   "name": "python",
   "nbconvert_exporter": "python",
   "pygments_lexer": "ipython3",
   "version": "3.10.13"
  }
 },
 "nbformat": 4,
 "nbformat_minor": 4
}
